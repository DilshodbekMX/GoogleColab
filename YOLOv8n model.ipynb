{
  "nbformat": 4,
  "nbformat_minor": 0,
  "metadata": {
    "colab": {
      "provenance": [],
      "gpuType": "T4",
      "authorship_tag": "ABX9TyPKltCBFYStisGF5A+u5Gur",
      "include_colab_link": true
    },
    "kernelspec": {
      "name": "python3",
      "display_name": "Python 3"
    },
    "language_info": {
      "name": "python"
    }
  },
  "cells": [
    {
      "cell_type": "markdown",
      "metadata": {
        "id": "view-in-github",
        "colab_type": "text"
      },
      "source": [
        "<a href=\"https://colab.research.google.com/github/DilshodbekMX/GoogleColab/blob/main/YOLOv8n%20model.ipynb\" target=\"_parent\"><img src=\"https://colab.research.google.com/assets/colab-badge.svg\" alt=\"Open In Colab\"/></a>"
      ]
    },
    {
      "cell_type": "code",
      "source": [
        "from torch.nn.modules.upsampling import Upsample\n",
        "import torch\n",
        "import torch.nn as nn\n",
        "import torch.nn.functional as F"
      ],
      "metadata": {
        "id": "Tv8wDFSkROXl"
      },
      "execution_count": 130,
      "outputs": []
    },
    {
      "cell_type": "code",
      "source": [
        "class Bottleneck(nn.Module):\n",
        "    \"\"\"Standard bottleneck.\"\"\"\n",
        "\n",
        "    def __init__(self, c1, c2, shortcut=True, g=1, k=(3, 3), e=0.5):\n",
        "        \"\"\"Initializes a bottleneck module with given input/output channels, shortcut option, group, kernels, and\n",
        "        expansion.\n",
        "        \"\"\"\n",
        "        super().__init__()\n",
        "        c_ = int(c2 * e)  # hidden channels\n",
        "        self.cv1 = Conv(c1, c_, k[0], 1)\n",
        "        self.cv2 = Conv(c_, c2, k[1], 1, g=g)\n",
        "        self.add = shortcut and c1 == c2\n",
        "\n",
        "    def forward(self, x):\n",
        "        \"\"\"'forward()' applies the YOLO FPN to input data.\"\"\"\n",
        "        return x + self.cv2(self.cv1(x)) if self.add else self.cv2(self.cv1(x))"
      ],
      "metadata": {
        "id": "QHYJXZtJUmNI"
      },
      "execution_count": 131,
      "outputs": []
    },
    {
      "cell_type": "code",
      "source": [
        "class C2f(nn.Module):\n",
        "    \"\"\"Faster Implementation of CSP Bottleneck with 2 convolutions.\"\"\"\n",
        "\n",
        "    def __init__(self, c1, c2, n=1, shortcut=False, g=1, e=0.5):\n",
        "        \"\"\"Initialize CSP bottleneck layer with two convolutions with arguments ch_in, ch_out, number, shortcut, groups,\n",
        "        expansion.\n",
        "        \"\"\"\n",
        "        super().__init__()\n",
        "        self.c = int(c2 * e)  # hidden channels\n",
        "        self.cv1 = Conv(c1, 2 * self.c, 1, 1,act=True)\n",
        "        self.cv2 = Conv((2 + n) * self.c, c2, 1,act=True)  # optional act=FReLU(c2)\n",
        "        self.m = nn.ModuleList(Bottleneck(self.c, self.c, shortcut, g, k=((3, 3), (3, 3)), e=0.5) for _ in range(n))\n",
        "\n",
        "    def forward(self, x):\n",
        "        \"\"\"Forward pass through C2f layer.\"\"\"\n",
        "        y = list(self.cv1(x).chunk(2, 1))\n",
        "        y.extend(m(y[-1]) for m in self.m)\n",
        "        return self.cv2(torch.cat(y, 1))\n",
        "\n",
        "    def forward_split(self, x):\n",
        "        \"\"\"Forward pass using split() instead of chunk().\"\"\"\n",
        "        y = list(self.cv1(x).split((self.c, self.c), 1))\n",
        "        y.extend(m(y[-1]) for m in self.m)\n",
        "        return self.cv2(torch.cat(y, 1))\n"
      ],
      "metadata": {
        "id": "vh6mYU2IU6ap"
      },
      "execution_count": 132,
      "outputs": []
    },
    {
      "cell_type": "code",
      "source": [
        "class SPPF(nn.Module):\n",
        "    \"\"\"Spatial Pyramid Pooling - Fast (SPPF) layer for YOLOv5 by Glenn Jocher.\"\"\"\n",
        "\n",
        "    def __init__(self, c1, c2, k=5):\n",
        "        \"\"\"\n",
        "        Initializes the SPPF layer with given input/output channels and kernel size.\n",
        "\n",
        "        This module is equivalent to SPP(k=(5, 9, 13)).\n",
        "        \"\"\"\n",
        "        super().__init__()\n",
        "        c_ = c1 // 2  # hidden channels\n",
        "        self.cv1 = Conv(c1, c_, 1, 1)\n",
        "        self.cv2 = Conv(c_ * 4, c2, 1, 1)\n",
        "        self.m = nn.MaxPool2d(kernel_size=k, stride=1, padding=k // 2)\n",
        "\n",
        "    def forward(self, x):\n",
        "        \"\"\"Forward pass through Ghost Convolution block.\"\"\"\n",
        "        x = self.cv1(x)\n",
        "        y1 = self.m(x)\n",
        "        y2 = self.m(y1)\n",
        "        return self.cv2(torch.cat((x, y1, y2, self.m(y2)), 1))\n"
      ],
      "metadata": {
        "id": "iX0UPhB_Zhid"
      },
      "execution_count": 133,
      "outputs": []
    },
    {
      "cell_type": "code",
      "source": [
        "def autopad(k, p=None, d=1):  # kernel, padding, dilation\n",
        "    \"\"\"Pad to 'same' shape outputs.\"\"\"\n",
        "    if d > 1:\n",
        "        k = d * (k - 1) + 1 if isinstance(k, int) else [d * (x - 1) + 1 for x in k]  # actual kernel-size\n",
        "    if p is None:\n",
        "        p = k // 2 if isinstance(k, int) else [x // 2 for x in k]  # auto-pad\n",
        "    return p\n",
        "\n",
        "\n",
        "class Conv(nn.Module):\n",
        "    \"\"\"Standard convolution with args(ch_in, ch_out, kernel, stride, padding, groups, dilation, activation).\"\"\"\n",
        "\n",
        "    default_act = nn.SiLU()  # default activation\n",
        "\n",
        "    def __init__(self, c1, c2, k=1, s=1, p=None, g=1, d=1, act=True):\n",
        "        \"\"\"Initialize Conv layer with given arguments including activation.\"\"\"\n",
        "        super().__init__()\n",
        "        self.conv = nn.Conv2d(c1, c2, k, s, autopad(k, p, d), groups=g, dilation=d, bias=False)\n",
        "        self.bn = nn.BatchNorm2d(c2)\n",
        "        self.act = self.default_act if act is True else act if isinstance(act, nn.Module) else nn.Identity()\n",
        "\n",
        "    def forward(self, x):\n",
        "        \"\"\"Apply convolution, batch normalization and activation to input tensor.\"\"\"\n",
        "        return self.act(self.bn(self.conv(x)))\n",
        "\n",
        "    def forward_fuse(self, x):\n",
        "        \"\"\"Perform transposed convolution of 2D data.\"\"\"\n",
        "        return self.act(self.conv(x))\n",
        "\n",
        "\n",
        "class Concat(nn.Module):\n",
        "    \"\"\"Concatenate a list of tensors along dimension.\"\"\"\n",
        "\n",
        "    def __init__(self, dimension=1):\n",
        "        \"\"\"Concatenates a list of tensors along a specified dimension.\"\"\"\n",
        "        super().__init__()\n",
        "        self.d = dimension\n",
        "\n",
        "    def forward(self, x):\n",
        "        \"\"\"Forward pass for the YOLOv8 mask Proto module.\"\"\"\n",
        "        return torch.cat(x, self.d)\n",
        "\n"
      ],
      "metadata": {
        "id": "O79ksxKdUt3c"
      },
      "execution_count": 134,
      "outputs": []
    },
    {
      "cell_type": "code",
      "source": [
        "if __name__ ==\"__main__\":\n",
        "    x = torch.randn(1,3,640,640)\n",
        "    cv1 = Conv(3,16,3,2)\n",
        "    cv2 = Conv(16,32,3,2)\n",
        "    c2f1 = C2f(32, 32, 1, True)\n",
        "    cv3 = Conv(32, 64, 3, 2)\n",
        "    c2f2 = C2f(64, 64, 2, True)\n",
        "    cv4 = Conv(64, 128, 3, 2)\n",
        "    c2f3 = C2f(128, 128, 2, True)\n",
        "    cv5 = Conv(128, 256, 3, 2)\n",
        "    c2f4 = C2f(256, 256, 2, True)\n",
        "    sppf = SPPF(256,256,5)\n",
        "\n",
        "    ups1 = Upsample(None, 2, 'nearest')\n",
        "    con1 = Concat(1)\n",
        "    c2f5 = C2f(384, 128, 1, False)\n",
        "    ups2 = Upsample(None, 2, 'nearest')\n",
        "    con2 = Concat(1)\n",
        "    c2f6 = C2f(192, 64, 1, False)\n",
        "\n",
        "    cv6 = Conv(64, 64, 3, 2)\n",
        "    con3 = Concat(1)\n",
        "    c2f7 = C2f(192, 128, 1, False)\n",
        "    cv7 = Conv(128, 128, 3, 2)\n",
        "    con4 = Concat(1)\n",
        "    c2f8 = C2f(384, 256, 1, False)\n",
        "\n",
        "    x = cv1(x)\n",
        "    print(f\"cv1: {x.shape}\")\n",
        "    x = cv2(x)\n",
        "    print(f\"cv2: {x.shape}\")\n",
        "    x = c2f1(x)\n",
        "    print(f\"c2f1: {x.shape}\")\n",
        "    x = cv3(x)\n",
        "    print(f\"cv3: {x.shape}\")\n",
        "    x = c2f2(x)\n",
        "    b1 = x\n",
        "    print(f\"c2f2: {x.shape}\")\n",
        "    x = cv4(x)\n",
        "    print(f\"cv4: {x.shape}\")\n",
        "    x = c2f3(x)\n",
        "    b2 = x\n",
        "    print(f\"c2f3: {x.shape}\")\n",
        "    x = cv5(x)\n",
        "    print(f\"cv5: {x.shape}\")\n",
        "    x = c2f4(x)\n",
        "    print(f\"c2f4: {x.shape}\")\n",
        "    x = sppf(x)\n",
        "    print(f\"sppf: {x.shape}\")\n",
        "    b3 = x\n",
        "\n",
        "    print(\" \")\n",
        "    x = ups1(x)\n",
        "    print(f\"ups1: {x.shape}\")\n",
        "    x = con1([x,b2])\n",
        "    print(f\"con1: {x.shape}\")\n",
        "    x = c2f5(x)\n",
        "    h1 = x\n",
        "    print(f\"c2f5: {x.shape}\")\n",
        "    x = ups2(x)\n",
        "    print(f\"ups2: {x.shape}\")\n",
        "    x = con2([x,b1])\n",
        "    print(f\"con2: {x.shape}\")\n",
        "    x = c2f6(x)\n",
        "    print(f\"c2f6: {x.shape}\")\n",
        "\n",
        "    x = cv6(x)\n",
        "    print(f\"cv6: {x.shape}\")\n",
        "    x = con3([x,h1])\n",
        "    print(f\"con3: {x.shape}\")\n",
        "    x = c2f7(x)\n",
        "    print(f\"c2f7: {x.shape}\")\n",
        "\n",
        "    x = cv7(x)\n",
        "    print(f\"cv7: {x.shape}\")\n",
        "    x = con4([x,b3])\n",
        "    print(f\"con4: {x.shape}\")\n",
        "    x = c2f8(x)\n",
        "    print(f\"c2f8: {x.shape}\")"
      ],
      "metadata": {
        "colab": {
          "base_uri": "https://localhost:8080/"
        },
        "id": "AKRl33rYU9za",
        "outputId": "8d05b9a3-a542-4476-8761-cec963ab6a90"
      },
      "execution_count": 135,
      "outputs": [
        {
          "output_type": "stream",
          "name": "stdout",
          "text": [
            "cv1: torch.Size([1, 16, 320, 320])\n",
            "cv2: torch.Size([1, 32, 160, 160])\n",
            "c2f1: torch.Size([1, 32, 160, 160])\n",
            "cv3: torch.Size([1, 64, 80, 80])\n",
            "c2f2: torch.Size([1, 64, 80, 80])\n",
            "cv4: torch.Size([1, 128, 40, 40])\n",
            "c2f3: torch.Size([1, 128, 40, 40])\n",
            "cv5: torch.Size([1, 256, 20, 20])\n",
            "c2f4: torch.Size([1, 256, 20, 20])\n",
            "sppf: torch.Size([1, 256, 20, 20])\n",
            " \n",
            "ups1: torch.Size([1, 256, 40, 40])\n",
            "con1: torch.Size([1, 384, 40, 40])\n",
            "c2f5: torch.Size([1, 128, 40, 40])\n",
            "ups2: torch.Size([1, 128, 80, 80])\n",
            "con2: torch.Size([1, 192, 80, 80])\n",
            "c2f6: torch.Size([1, 64, 80, 80])\n",
            "cv6: torch.Size([1, 64, 40, 40])\n",
            "con3: torch.Size([1, 192, 40, 40])\n",
            "c2f7: torch.Size([1, 128, 40, 40])\n",
            "cv7: torch.Size([1, 128, 20, 20])\n",
            "con4: torch.Size([1, 384, 20, 20])\n",
            "c2f8: torch.Size([1, 256, 20, 20])\n"
          ]
        }
      ]
    },
    {
      "cell_type": "code",
      "source": [],
      "metadata": {
        "id": "iCOTPP7uVH6z"
      },
      "execution_count": null,
      "outputs": []
    }
  ]
}