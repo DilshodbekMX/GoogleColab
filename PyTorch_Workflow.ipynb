{
  "nbformat": 4,
  "nbformat_minor": 0,
  "metadata": {
    "colab": {
      "provenance": [],
      "gpuType": "T4",
      "authorship_tag": "ABX9TyO8kB/bMxRQ04oUaU4vGuAk",
      "include_colab_link": true
    },
    "kernelspec": {
      "name": "python3",
      "display_name": "Python 3"
    },
    "language_info": {
      "name": "python"
    },
    "accelerator": "GPU"
  },
  "cells": [
    {
      "cell_type": "markdown",
      "metadata": {
        "id": "view-in-github",
        "colab_type": "text"
      },
      "source": [
        "<a href=\"https://colab.research.google.com/github/DilshodbekMX/GoogleColab/blob/main/PyTorch_Workflow.ipynb\" target=\"_parent\"><img src=\"https://colab.research.google.com/assets/colab-badge.svg\" alt=\"Open In Colab\"/></a>"
      ]
    },
    {
      "cell_type": "code",
      "source": [
        "import torch\n",
        "from torch import nn\n",
        "import numpy as np\n",
        "import pandas as pd\n",
        "import matplotlib.pyplot as plt\n",
        "\n",
        "print(torch.__version__)"
      ],
      "metadata": {
        "colab": {
          "base_uri": "https://localhost:8080/"
        },
        "id": "aBuqlsIMKInP",
        "outputId": "05f12f92-2439-488b-ec1f-9397b5364e3d"
      },
      "execution_count": 1,
      "outputs": [
        {
          "output_type": "stream",
          "name": "stdout",
          "text": [
            "2.0.1+cu118\n"
          ]
        }
      ]
    },
    {
      "cell_type": "code",
      "source": [
        "weight = 0.7\n",
        "bias = 0.3\n",
        "\n",
        "start = 0\n",
        "end = 2\n",
        "step = 0.02\n",
        "X = torch.arange(start,end,step).unsqueeze(dim=1)\n",
        "y = weight * X + bias\n"
      ],
      "metadata": {
        "id": "_mzQpVfyKfaY"
      },
      "execution_count": 2,
      "outputs": []
    },
    {
      "cell_type": "code",
      "source": [
        "train_split = int(0.8*len(X))\n",
        "X_train, y_train = X[:train_split], y[:train_split]\n",
        "X_test, y_test = X[train_split:], y[train_split:]\n",
        "\n",
        "len(X_train), len(y_train), len(X_test), len(y_test)"
      ],
      "metadata": {
        "colab": {
          "base_uri": "https://localhost:8080/"
        },
        "id": "7mYEQmxZdHbB",
        "outputId": "9d0993f4-3f58-4a94-f44a-3dbf4ab3dc74"
      },
      "execution_count": 3,
      "outputs": [
        {
          "output_type": "execute_result",
          "data": {
            "text/plain": [
              "(80, 80, 20, 20)"
            ]
          },
          "metadata": {},
          "execution_count": 3
        }
      ]
    },
    {
      "cell_type": "code",
      "source": [
        "def plot_prediction(train_data=X_train, train_label=y_train, test_data=X_test, test_label=y_test, predictions=None):\n",
        "  plt.figure(figsize=(5,3))\n",
        "\n",
        "  plt.scatter(train_data,train_label, c='b', s=1,label=\"Training Data\")\n",
        "  plt.scatter(test_data,test_label, c='g', s=1, label=\"Testing Data\")\n",
        "\n",
        "  if predictions is not None:\n",
        "    plt.scatter(test_data,predictions, c='r',s=1, label=\"Predictions\")\n",
        "\n",
        "  plt.legend(prop={\"size\":5});\n"
      ],
      "metadata": {
        "id": "khTigQ9jdk_A"
      },
      "execution_count": 4,
      "outputs": []
    },
    {
      "cell_type": "code",
      "source": [
        "plot_prediction(X_train, y_train,X_test, y_test)"
      ],
      "metadata": {
        "colab": {
          "base_uri": "https://localhost:8080/",
          "height": 291
        },
        "id": "d3JShR2YfTpb",
        "outputId": "f8f90ec5-b920-48a3-fe7c-dfd1d5357a9d"
      },
      "execution_count": 5,
      "outputs": [
        {
          "output_type": "display_data",
          "data": {
            "text/plain": [
              "<Figure size 500x300 with 1 Axes>"
            ],
            "image/png": "[encoded data removed]"
          },
          "metadata": {}
        }
      ]
    },
    {
      "cell_type": "code",
      "source": [
        "class  LinearRegressionModel(nn.Module):\n",
        "  def __init__(self):\n",
        "    super().__init__()\n",
        "\n",
        "    self.weights = nn.Parameter(torch.randn(1,dtype=torch.float,requires_grad=True))\n",
        "    self.bias = nn.Parameter(torch.randn(1,dtype=torch.float,requires_grad=True))\n",
        "\n",
        "  def forward(self, x: torch.Tensor) -> torch.Tensor:\n",
        "    return self.weights * x + self.bias\n",
        "\n"
      ],
      "metadata": {
        "id": "KnMROC5cfcy5"
      },
      "execution_count": 6,
      "outputs": []
    },
    {
      "cell_type": "code",
      "source": [
        "torch.manual_seed(42)\n",
        "model_0 = LinearRegressionModel()\n",
        "list(model_0.parameters())"
      ],
      "metadata": {
        "colab": {
          "base_uri": "https://localhost:8080/"
        },
        "id": "DrZIFLq6rd4Y",
        "outputId": "2e401d63-92a7-41d7-e3ba-5e21d02970a4"
      },
      "execution_count": 7,
      "outputs": [
        {
          "output_type": "execute_result",
          "data": {
            "text/plain": [
              "[Parameter containing:\n",
              " tensor([0.3367], requires_grad=True),\n",
              " Parameter containing:\n",
              " tensor([0.1288], requires_grad=True)]"
            ]
          },
          "metadata": {},
          "execution_count": 7
        }
      ]
    },
    {
      "cell_type": "code",
      "source": [
        "model_0.state_dict()"
      ],
      "metadata": {
        "colab": {
          "base_uri": "https://localhost:8080/"
        },
        "id": "qmz5VpMGtvgX",
        "outputId": "d2c3b7d6-3d9f-48e9-894f-9116c73f9f5e"
      },
      "execution_count": 8,
      "outputs": [
        {
          "output_type": "execute_result",
          "data": {
            "text/plain": [
              "OrderedDict([('weights', tensor([0.3367])), ('bias', tensor([0.1288]))])"
            ]
          },
          "metadata": {},
          "execution_count": 8
        }
      ]
    },
    {
      "cell_type": "code",
      "source": [
        "with torch.inference_mode():\n",
        "  y_preds = model_0(X_test)\n",
        "\n",
        "y_preds"
      ],
      "metadata": {
        "colab": {
          "base_uri": "https://localhost:8080/"
        },
        "id": "A_FpFVrAwqE4",
        "outputId": "47eb596d-cb41-4acd-a420-07204195e827"
      },
      "execution_count": 9,
      "outputs": [
        {
          "output_type": "execute_result",
          "data": {
            "text/plain": [
              "tensor([[0.6675],\n",
              "        [0.6742],\n",
              "        [0.6810],\n",
              "        [0.6877],\n",
              "        [0.6944],\n",
              "        [0.7012],\n",
              "        [0.7079],\n",
              "        [0.7147],\n",
              "        [0.7214],\n",
              "        [0.7281],\n",
              "        [0.7349],\n",
              "        [0.7416],\n",
              "        [0.7483],\n",
              "        [0.7551],\n",
              "        [0.7618],\n",
              "        [0.7685],\n",
              "        [0.7753],\n",
              "        [0.7820],\n",
              "        [0.7887],\n",
              "        [0.7955]])"
            ]
          },
          "metadata": {},
          "execution_count": 9
        }
      ]
    },
    {
      "cell_type": "code",
      "source": [
        "plot_prediction(predictions=y_preds)"
      ],
      "metadata": {
        "colab": {
          "base_uri": "https://localhost:8080/",
          "height": 291
        },
        "id": "8gW2tfnGNx7y",
        "outputId": "5f41cff4-dcfa-436a-be59-df5d72b4f05a"
      },
      "execution_count": 10,
      "outputs": [
        {
          "output_type": "display_data",
          "data": {
            "text/plain": [
              "<Figure size 500x300 with 1 Axes>"
            ],
            "image/png": "[encoded data removed]"
          },
          "metadata": {}
        }
      ]
    },
    {
      "cell_type": "code",
      "source": [
        "loss_fn = nn.L1Loss()\n",
        "optimizer = torch.optim.Adam(params=model_0.parameters(),lr=0.01)\n",
        "epoch_count = []\n",
        "loss_values = []\n",
        "test_loss_values = []\n",
        "epochs = 200\n",
        "\n",
        "for epoch in range(epochs):\n",
        "  model_0.train()\n",
        "  y_pred = model_0(X_train)\n",
        "  loss = loss_fn(y_pred,y_train)\n",
        "  optimizer.zero_grad()\n",
        "  loss.backward()\n",
        "  optimizer.step()\n",
        "  model_0.eval()\n",
        "\n",
        "  with torch.inference_mode():\n",
        "    test_pred = model_0(X_test)\n",
        "    test_loss = loss_fn(test_pred, y_test)\n",
        "  if epoch%10 == 0:\n",
        "    epoch_count.append(epoch)\n",
        "    loss_values.append(loss)\n",
        "    test_loss_values.append(test_loss)\n",
        "    print(f\"Epoch: {epoch} | MAE train loss: {loss} | MAE test loss: {test_loss}\")\n",
        "    print(model_0.state_dict(),\"\\n\")\n",
        ""
      ],
      "metadata": {
        "colab": {
          "base_uri": "https://localhost:8080/"
        },
        "id": "81jEiNW8ODwt",
        "outputId": "630664ce-0d22-4a0d-d9bc-70c8f5f4a764"
      },
      "execution_count": 11,
      "outputs": [
        {
          "output_type": "stream",
          "name": "stdout",
          "text": [
            "Epoch: 0 | MAE train loss: 0.4582051634788513 | MAE test loss: 0.7936148047447205\n",
            "OrderedDict([('weights', tensor([0.3467])), ('bias', tensor([0.1388]))]) \n",
            "\n",
            "Epoch: 10 | MAE train loss: 0.27920523285865784 | MAE test loss: 0.5146149396896362\n",
            "OrderedDict([('weights', tensor([0.4467])), ('bias', tensor([0.2388]))]) \n",
            "\n",
            "Epoch: 20 | MAE train loss: 0.1039019376039505 | MAE test loss: 0.2361360490322113\n",
            "OrderedDict([('weights', tensor([0.5467])), ('bias', tensor([0.3383]))]) \n",
            "\n",
            "Epoch: 30 | MAE train loss: 0.04908657819032669 | MAE test loss: 0.011708348989486694\n",
            "OrderedDict([('weights', tensor([0.6333])), ('bias', tensor([0.4078]))]) \n",
            "\n",
            "Epoch: 40 | MAE train loss: 0.034265704452991486 | MAE test loss: 0.06179021671414375\n",
            "OrderedDict([('weights', tensor([0.6227])), ('bias', tensor([0.3767]))]) \n",
            "\n",
            "Epoch: 50 | MAE train loss: 0.030773380771279335 | MAE test loss: 0.08060064911842346\n",
            "OrderedDict([('weights', tensor([0.6298])), ('bias', tensor([0.3450]))]) \n",
            "\n",
            "Epoch: 60 | MAE train loss: 0.016633015125989914 | MAE test loss: 0.01131373643875122\n",
            "OrderedDict([('weights', tensor([0.6738])), ('bias', tensor([0.3355]))]) \n",
            "\n",
            "Epoch: 70 | MAE train loss: 0.0034682482946664095 | MAE test loss: 0.0023064971901476383\n",
            "OrderedDict([('weights', tensor([0.6971])), ('bias', tensor([0.3029]))]) \n",
            "\n",
            "Epoch: 80 | MAE train loss: 0.00451361620798707 | MAE test loss: 0.011762958951294422\n",
            "OrderedDict([('weights', tensor([0.7110])), ('bias', tensor([0.2922]))]) \n",
            "\n",
            "Epoch: 90 | MAE train loss: 0.0018829975742846727 | MAE test loss: 0.003856456372886896\n",
            "OrderedDict([('weights', tensor([0.6960])), ('bias', tensor([0.3033]))]) \n",
            "\n",
            "Epoch: 100 | MAE train loss: 0.0008034963393583894 | MAE test loss: 0.0022296488750725985\n",
            "OrderedDict([('weights', tensor([0.7022])), ('bias', tensor([0.2983]))]) \n",
            "\n",
            "Epoch: 110 | MAE train loss: 0.002942140679806471 | MAE test loss: 0.005688965320587158\n",
            "OrderedDict([('weights', tensor([0.6957])), ('bias', tensor([0.3020]))]) \n",
            "\n",
            "Epoch: 120 | MAE train loss: 0.002852467354387045 | MAE test loss: 0.0012803375720977783\n",
            "OrderedDict([('weights', tensor([0.7017])), ('bias', tensor([0.2982]))]) \n",
            "\n",
            "Epoch: 130 | MAE train loss: 0.0006711836904287338 | MAE test loss: 0.0018342375988140702\n",
            "OrderedDict([('weights', tensor([0.7005])), ('bias', tensor([0.3010]))]) \n",
            "\n",
            "Epoch: 140 | MAE train loss: 0.004692268557846546 | MAE test loss: 0.011063247919082642\n",
            "OrderedDict([('weights', tensor([0.6961])), ('bias', tensor([0.2958]))]) \n",
            "\n",
            "Epoch: 150 | MAE train loss: 0.004109868314117193 | MAE test loss: 0.008516264148056507\n",
            "OrderedDict([('weights', tensor([0.7030])), ('bias', tensor([0.3031]))]) \n",
            "\n",
            "Epoch: 160 | MAE train loss: 0.0014091792982071638 | MAE test loss: 0.0023368955589830875\n",
            "OrderedDict([('weights', tensor([0.6992])), ('bias', tensor([0.2990]))]) \n",
            "\n",
            "Epoch: 170 | MAE train loss: 0.0010218184906989336 | MAE test loss: 0.0011552453506737947\n",
            "OrderedDict([('weights', tensor([0.7000])), ('bias', tensor([0.3012]))]) \n",
            "\n",
            "Epoch: 180 | MAE train loss: 0.00015147178783081472 | MAE test loss: 0.0005435168859548867\n",
            "OrderedDict([('weights', tensor([0.6998])), ('bias', tensor([0.2999]))]) \n",
            "\n",
            "Epoch: 190 | MAE train loss: 0.001212469069287181 | MAE test loss: 0.001654851483181119\n",
            "OrderedDict([('weights', tensor([0.7002])), ('bias', tensor([0.3014]))]) \n",
            "\n"
          ]
        }
      ]
    },
    {
      "cell_type": "code",
      "source": [
        "epoch_count, loss_values,test_loss_values"
      ],
      "metadata": {
        "colab": {
          "base_uri": "https://localhost:8080/"
        },
        "id": "AiYkQDy94aHV",
        "outputId": "53e86ca0-001b-474a-82a1-d1bc24556a5a"
      },
      "execution_count": 12,
      "outputs": [
        {
          "output_type": "execute_result",
          "data": {
            "text/plain": [
              "([0,\n",
              "  10,\n",
              "  20,\n",
              "  30,\n",
              "  40,\n",
              "  50,\n",
              "  60,\n",
              "  70,\n",
              "  80,\n",
              "  90,\n",
              "  100,\n",
              "  110,\n",
              "  120,\n",
              "  130,\n",
              "  140,\n",
              "  150,\n",
              "  160,\n",
              "  170,\n",
              "  180,\n",
              "  190],\n",
              " [tensor(0.4582, grad_fn=<MeanBackward0>),\n",
              "  tensor(0.2792, grad_fn=<MeanBackward0>),\n",
              "  tensor(0.1039, grad_fn=<MeanBackward0>),\n",
              "  tensor(0.0491, grad_fn=<MeanBackward0>),\n",
              "  tensor(0.0343, grad_fn=<MeanBackward0>),\n",
              "  tensor(0.0308, grad_fn=<MeanBackward0>),\n",
              "  tensor(0.0166, grad_fn=<MeanBackward0>),\n",
              "  tensor(0.0035, grad_fn=<MeanBackward0>),\n",
              "  tensor(0.0045, grad_fn=<MeanBackward0>),\n",
              "  tensor(0.0019, grad_fn=<MeanBackward0>),\n",
              "  tensor(0.0008, grad_fn=<MeanBackward0>),\n",
              "  tensor(0.0029, grad_fn=<MeanBackward0>),\n",
              "  tensor(0.0029, grad_fn=<MeanBackward0>),\n",
              "  tensor(0.0007, grad_fn=<MeanBackward0>),\n",
              "  tensor(0.0047, grad_fn=<MeanBackward0>),\n",
              "  tensor(0.0041, grad_fn=<MeanBackward0>),\n",
              "  tensor(0.0014, grad_fn=<MeanBackward0>),\n",
              "  tensor(0.0010, grad_fn=<MeanBackward0>),\n",
              "  tensor(0.0002, grad_fn=<MeanBackward0>),\n",
              "  tensor(0.0012, grad_fn=<MeanBackward0>)],\n",
              " [tensor(0.7936),\n",
              "  tensor(0.5146),\n",
              "  tensor(0.2361),\n",
              "  tensor(0.0117),\n",
              "  tensor(0.0618),\n",
              "  tensor(0.0806),\n",
              "  tensor(0.0113),\n",
              "  tensor(0.0023),\n",
              "  tensor(0.0118),\n",
              "  tensor(0.0039),\n",
              "  tensor(0.0022),\n",
              "  tensor(0.0057),\n",
              "  tensor(0.0013),\n",
              "  tensor(0.0018),\n",
              "  tensor(0.0111),\n",
              "  tensor(0.0085),\n",
              "  tensor(0.0023),\n",
              "  tensor(0.0012),\n",
              "  tensor(0.0005),\n",
              "  tensor(0.0017)])"
            ]
          },
          "metadata": {},
          "execution_count": 12
        }
      ]
    },
    {
      "cell_type": "code",
      "source": [
        "import numpy as np\n",
        "\n",
        "plt.plot(epoch_count,np.array(torch.tensor(loss_values).cpu().numpy()),label=\"Train loss\")\n",
        "plt.plot(epoch_count,test_loss_values,label=\"Test loss\")\n",
        "plt.title(\"Training and testing loss curves\")\n",
        "plt.xlabel(\"Epochs\")\n",
        "plt.ylabel(\"Loss\")\n",
        "plt.legend()"
      ],
      "metadata": {
        "colab": {
          "base_uri": "https://localhost:8080/",
          "height": 489
        },
        "id": "fI25YUJN4ud1",
        "outputId": "5b5e0198-89f4-4c89-f47a-d7dc4573fd94"
      },
      "execution_count": 13,
      "outputs": [
        {
          "output_type": "execute_result",
          "data": {
            "text/plain": [
              "<matplotlib.legend.Legend at 0x7920bb2caa10>"
            ]
          },
          "metadata": {},
          "execution_count": 13
        },
        {
          "output_type": "display_data",
          "data": {
            "text/plain": [
              "<Figure size 640x480 with 1 Axes>"
            ],
            "image/png": "[encoded data removed]"
          },
          "metadata": {}
        }
      ]
    },
    {
      "cell_type": "code",
      "source": [
        "model_0.state_dict()"
      ],
      "metadata": {
        "colab": {
          "base_uri": "https://localhost:8080/"
        },
        "id": "mODIBdASo1Cw",
        "outputId": "b4a0e150-efdb-483f-cd8a-4f5cf96c70d3"
      },
      "execution_count": 14,
      "outputs": [
        {
          "output_type": "execute_result",
          "data": {
            "text/plain": [
              "OrderedDict([('weights', tensor([0.7003])), ('bias', tensor([0.2986]))])"
            ]
          },
          "metadata": {},
          "execution_count": 14
        }
      ]
    },
    {
      "cell_type": "markdown",
      "source": [
        "Adamax: OrderedDict([('weights', tensor([0.7006])), ('bias', tensor([0.3010]))])\n",
        "\n",
        "Adamw:  OrderedDict([('weights', tensor([0.6974])), ('bias', tensor([0.2997]))])\n",
        "\n",
        "Adam:   OrderedDict([('weights', tensor([0.7004])), ('bias', tensor([0.3002]))])\n",
        "\n",
        "SGD:    OrderedDict([('weights', tensor([0.6990])), ('bias', tensor([0.3093]))])"
      ],
      "metadata": {
        "id": "DsThvZRK1Rgn"
      }
    },
    {
      "cell_type": "code",
      "source": [
        "with torch.inference_mode():\n",
        "  y_pred_new = model_0(X_test)\n",
        "model_0.state_dict()"
      ],
      "metadata": {
        "colab": {
          "base_uri": "https://localhost:8080/"
        },
        "id": "boH4bgzyueuS",
        "outputId": "1e04746d-a884-48fd-af5d-69392cf2399c"
      },
      "execution_count": 15,
      "outputs": [
        {
          "output_type": "execute_result",
          "data": {
            "text/plain": [
              "OrderedDict([('weights', tensor([0.7003])), ('bias', tensor([0.2986]))])"
            ]
          },
          "metadata": {},
          "execution_count": 15
        }
      ]
    },
    {
      "cell_type": "code",
      "source": [
        "weight, bias"
      ],
      "metadata": {
        "colab": {
          "base_uri": "https://localhost:8080/"
        },
        "id": "d_ZFTDTYwWf6",
        "outputId": "42435f05-2652-4445-d7e2-8289b9eb24f4"
      },
      "execution_count": 16,
      "outputs": [
        {
          "output_type": "execute_result",
          "data": {
            "text/plain": [
              "(0.7, 0.3)"
            ]
          },
          "metadata": {},
          "execution_count": 16
        }
      ]
    },
    {
      "cell_type": "code",
      "source": [
        "plot_prediction(predictions=y_preds), plot_prediction(predictions=y_pred_new)"
      ],
      "metadata": {
        "colab": {
          "base_uri": "https://localhost:8080/",
          "height": 582
        },
        "id": "6c3kG2tvwc_j",
        "outputId": "c2e6155e-84dc-4d6a-8338-8bb573615aa3"
      },
      "execution_count": 17,
      "outputs": [
        {
          "output_type": "execute_result",
          "data": {
            "text/plain": [
              "(None, None)"
            ]
          },
          "metadata": {},
          "execution_count": 17
        },
        {
          "output_type": "display_data",
          "data": {
            "text/plain": [
              "<Figure size 500x300 with 1 Axes>"
            ],
            "image/png": "[encoded data removed]"
          },
          "metadata": {}
        },
        {
          "output_type": "display_data",
          "data": {
            "text/plain": [
              "<Figure size 500x300 with 1 Axes>"
            ],
            "image/png": "[encoded data removed]"
          },
          "metadata": {}
        }
      ]
    },
    {
      "cell_type": "code",
      "source": [
        "from pathlib import Path\n",
        "\n",
        "MODEL_PATH = Path(\"models\")\n",
        "MODEL_PATH.mkdir(parents=True,exist_ok=True)\n",
        "\n",
        "MODEL_NAME = \"pytorch_workflow_model.pth\"\n",
        "MODEL_SAVE_PATH = MODEL_PATH / MODEL_NAME\n",
        "print(F\"Saving model to: {MODEL_SAVE_PATH}\")\n",
        "torch.save(obj=model_0.state_dict(),f=MODEL_SAVE_PATH)"
      ],
      "metadata": {
        "colab": {
          "base_uri": "https://localhost:8080/"
        },
        "id": "wopcbc-wwilT",
        "outputId": "629bdf6a-a12d-41b7-d0e3-cbaf776d46ed"
      },
      "execution_count": 18,
      "outputs": [
        {
          "output_type": "stream",
          "name": "stdout",
          "text": [
            "Saving model to: models/pytorch_workflow_model.pth\n"
          ]
        }
      ]
    },
    {
      "cell_type": "code",
      "source": [
        "!ls -l models"
      ],
      "metadata": {
        "colab": {
          "base_uri": "https://localhost:8080/"
        },
        "id": "QSoTm20SEObb",
        "outputId": "c1cdd314-a8e0-44ac-c2c3-ffbee3d5fd71"
      },
      "execution_count": 19,
      "outputs": [
        {
          "output_type": "stream",
          "name": "stdout",
          "text": [
            "total 4\n",
            "-rw-r--r-- 1 root root 1187 Aug 16 13:36 pytorch_workflow_model.pth\n"
          ]
        }
      ]
    },
    {
      "cell_type": "code",
      "source": [
        "loaded_model_0 =LinearRegressionModel()\n",
        "loaded_model_0.load_state_dict(torch.load(f=MODEL_SAVE_PATH))"
      ],
      "metadata": {
        "colab": {
          "base_uri": "https://localhost:8080/"
        },
        "id": "YOl8cyKKEU4D",
        "outputId": "7fbb7e5e-06a8-4f33-f0a5-c2da8fa0dfb3"
      },
      "execution_count": 20,
      "outputs": [
        {
          "output_type": "execute_result",
          "data": {
            "text/plain": [
              "<All keys matched successfully>"
            ]
          },
          "metadata": {},
          "execution_count": 20
        }
      ]
    },
    {
      "cell_type": "code",
      "source": [
        "loaded_model_0.state_dict()"
      ],
      "metadata": {
        "colab": {
          "base_uri": "https://localhost:8080/"
        },
        "id": "A-uFOO1hFGm8",
        "outputId": "15496954-a16d-4fd3-a10e-a15de59ad10b"
      },
      "execution_count": 21,
      "outputs": [
        {
          "output_type": "execute_result",
          "data": {
            "text/plain": [
              "OrderedDict([('weights', tensor([0.7003])), ('bias', tensor([0.2986]))])"
            ]
          },
          "metadata": {},
          "execution_count": 21
        }
      ]
    },
    {
      "cell_type": "code",
      "source": [
        "loaded_model_0.eval()\n",
        "with torch.inference_mode():\n",
        "  loaded_model_0_preds = loaded_model_0(X_test)\n",
        "loaded_model_0_preds"
      ],
      "metadata": {
        "colab": {
          "base_uri": "https://localhost:8080/"
        },
        "id": "qTtG2XGiFJtD",
        "outputId": "e01356aa-496d-4c6b-ce41-f8d4457bace0"
      },
      "execution_count": 22,
      "outputs": [
        {
          "output_type": "execute_result",
          "data": {
            "text/plain": [
              "tensor([[1.4190],\n",
              "        [1.4330],\n",
              "        [1.4470],\n",
              "        [1.4611],\n",
              "        [1.4751],\n",
              "        [1.4891],\n",
              "        [1.5031],\n",
              "        [1.5171],\n",
              "        [1.5311],\n",
              "        [1.5451],\n",
              "        [1.5591],\n",
              "        [1.5731],\n",
              "        [1.5871],\n",
              "        [1.6011],\n",
              "        [1.6151],\n",
              "        [1.6291],\n",
              "        [1.6431],\n",
              "        [1.6571],\n",
              "        [1.6711],\n",
              "        [1.6851]])"
            ]
          },
          "metadata": {},
          "execution_count": 22
        }
      ]
    },
    {
      "cell_type": "code",
      "source": [
        "loaded_model_0.eval()\n",
        "with torch.inference_mode():\n",
        "  y_preds = model_0(X_test)\n",
        "y_preds"
      ],
      "metadata": {
        "colab": {
          "base_uri": "https://localhost:8080/"
        },
        "id": "rtPhistoGJoN",
        "outputId": "f986740e-c803-4ef1-b05a-dc9232665cb3"
      },
      "execution_count": 23,
      "outputs": [
        {
          "output_type": "execute_result",
          "data": {
            "text/plain": [
              "tensor([[1.4190],\n",
              "        [1.4330],\n",
              "        [1.4470],\n",
              "        [1.4611],\n",
              "        [1.4751],\n",
              "        [1.4891],\n",
              "        [1.5031],\n",
              "        [1.5171],\n",
              "        [1.5311],\n",
              "        [1.5451],\n",
              "        [1.5591],\n",
              "        [1.5731],\n",
              "        [1.5871],\n",
              "        [1.6011],\n",
              "        [1.6151],\n",
              "        [1.6291],\n",
              "        [1.6431],\n",
              "        [1.6571],\n",
              "        [1.6711],\n",
              "        [1.6851]])"
            ]
          },
          "metadata": {},
          "execution_count": 23
        }
      ]
    },
    {
      "cell_type": "code",
      "source": [
        "y_preds == loaded_model_0_preds"
      ],
      "metadata": {
        "colab": {
          "base_uri": "https://localhost:8080/"
        },
        "id": "HuqqZHNnGWps",
        "outputId": "c48e40ce-c2ad-4d1f-f782-39bdafceb827"
      },
      "execution_count": 24,
      "outputs": [
        {
          "output_type": "execute_result",
          "data": {
            "text/plain": [
              "tensor([[True],\n",
              "        [True],\n",
              "        [True],\n",
              "        [True],\n",
              "        [True],\n",
              "        [True],\n",
              "        [True],\n",
              "        [True],\n",
              "        [True],\n",
              "        [True],\n",
              "        [True],\n",
              "        [True],\n",
              "        [True],\n",
              "        [True],\n",
              "        [True],\n",
              "        [True],\n",
              "        [True],\n",
              "        [True],\n",
              "        [True],\n",
              "        [True]])"
            ]
          },
          "metadata": {},
          "execution_count": 24
        }
      ]
    },
    {
      "cell_type": "code",
      "source": [
        "import torch\n",
        "import matplotlib.pyplot as plt\n",
        "from torch import nn\n",
        "\n",
        "device = \"cuda\" if torch.cuda.is_available() else \"cpu\"\n",
        "print(f\"Using device: {device}\")"
      ],
      "metadata": {
        "colab": {
          "base_uri": "https://localhost:8080/"
        },
        "id": "Njhv5VuSGcqE",
        "outputId": "8ae75d5c-7932-4921-b562-1de2e6a7ca6f"
      },
      "execution_count": 25,
      "outputs": [
        {
          "output_type": "stream",
          "name": "stdout",
          "text": [
            "Using device: cuda\n"
          ]
        }
      ]
    },
    {
      "cell_type": "code",
      "source": [
        "weight = 0.7\n",
        "bias = 0.3\n",
        "\n",
        "start = 0\n",
        "end = 1\n",
        "step = 0.02\n",
        "X = torch.arange(start,end,step).unsqueeze(dim=1)\n",
        "y = weight * X + bias\n",
        "\n",
        "train_split = int(0.8*len(X))\n",
        "X_train, y_train = X[:train_split], y[:train_split]\n",
        "X_test, y_test = X[train_split:], y[train_split:]\n",
        "\n",
        "len(X_train), len(y_train), len(X_test), len(y_test)"
      ],
      "metadata": {
        "colab": {
          "base_uri": "https://localhost:8080/"
        },
        "id": "xO-bFIB2HXRU",
        "outputId": "f2d9adba-d42a-4d7c-b6a3-a868cc8cee4e"
      },
      "execution_count": 26,
      "outputs": [
        {
          "output_type": "execute_result",
          "data": {
            "text/plain": [
              "(40, 40, 10, 10)"
            ]
          },
          "metadata": {},
          "execution_count": 26
        }
      ]
    },
    {
      "cell_type": "code",
      "source": [
        "def plot_prediction(train_data=X_train, train_label=y_train, test_data=X_test, test_label=y_test, predictions=None):\n",
        "  plt.figure(figsize=(5,3))\n",
        "\n",
        "  plt.scatter(train_data,train_label, c='b', s=1,label=\"Training Data\")\n",
        "  plt.scatter(test_data,test_label, c='g', s=1, label=\"Testing Data\")\n",
        "\n",
        "  if predictions is not None:\n",
        "    plt.scatter(test_data,predictions, c='r',s=1, label=\"Predictions\")\n",
        "\n",
        "  plt.legend(prop={\"size\":5});"
      ],
      "metadata": {
        "id": "mTmVXZhnIM-U"
      },
      "execution_count": 27,
      "outputs": []
    },
    {
      "cell_type": "code",
      "source": [
        "plot_prediction(X_train, y_train,X_test, y_test)"
      ],
      "metadata": {
        "colab": {
          "base_uri": "https://localhost:8080/",
          "height": 291
        },
        "id": "guDecAXOITbO",
        "outputId": "5362afe0-5fcb-4230-f439-b90af67ad61f"
      },
      "execution_count": 28,
      "outputs": [
        {
          "output_type": "display_data",
          "data": {
            "text/plain": [
              "<Figure size 500x300 with 1 Axes>"
            ],
            "image/png": "[encoded data removed]"
          },
          "metadata": {}
        }
      ]
    },
    {
      "cell_type": "code",
      "source": [
        "class LinearRegressionModelV2(nn.Module):\n",
        "  def __init__(self):\n",
        "    super().__init__()\n",
        "\n",
        "    self.linear_layer = nn.Linear(in_features=1,out_features=1)\n",
        "\n",
        "  def forward(self, x: torch.Tensor) ->torch.Tensor:\n",
        "    return self.linear_layer(x)\n",
        "\n",
        "torch.manual_seed(42)\n",
        "model_1 = LinearRegressionModelV2()\n",
        "model_1, model_1.state_dict()"
      ],
      "metadata": {
        "colab": {
          "base_uri": "https://localhost:8080/"
        },
        "id": "-tY1LpLZIT_E",
        "outputId": "2055a72f-cf77-4a75-e9b9-867d1344880a"
      },
      "execution_count": 29,
      "outputs": [
        {
          "output_type": "execute_result",
          "data": {
            "text/plain": [
              "(LinearRegressionModelV2(\n",
              "   (linear_layer): Linear(in_features=1, out_features=1, bias=True)\n",
              " ),\n",
              " OrderedDict([('linear_layer.weight', tensor([[0.7645]])),\n",
              "              ('linear_layer.bias', tensor([0.8300]))]))"
            ]
          },
          "metadata": {},
          "execution_count": 29
        }
      ]
    },
    {
      "cell_type": "code",
      "source": [
        "X_train[:5], y_train[:5]"
      ],
      "metadata": {
        "colab": {
          "base_uri": "https://localhost:8080/"
        },
        "id": "aMkgy9nYI6Qj",
        "outputId": "0d1fdc39-6dd0-45b8-85c2-3526d228921a"
      },
      "execution_count": 30,
      "outputs": [
        {
          "output_type": "execute_result",
          "data": {
            "text/plain": [
              "(tensor([[0.0000],\n",
              "         [0.0200],\n",
              "         [0.0400],\n",
              "         [0.0600],\n",
              "         [0.0800]]),\n",
              " tensor([[0.3000],\n",
              "         [0.3140],\n",
              "         [0.3280],\n",
              "         [0.3420],\n",
              "         [0.3560]]))"
            ]
          },
          "metadata": {},
          "execution_count": 30
        }
      ]
    },
    {
      "cell_type": "code",
      "source": [
        "next(model_1.parameters()).device"
      ],
      "metadata": {
        "colab": {
          "base_uri": "https://localhost:8080/"
        },
        "id": "HDoSUhUsLWC3",
        "outputId": "6686b628-5c5c-4adb-c46c-773c10162a88"
      },
      "execution_count": 31,
      "outputs": [
        {
          "output_type": "execute_result",
          "data": {
            "text/plain": [
              "device(type='cpu')"
            ]
          },
          "metadata": {},
          "execution_count": 31
        }
      ]
    },
    {
      "cell_type": "code",
      "source": [
        "model_1.to(device)\n",
        "next(model_1.parameters()).device"
      ],
      "metadata": {
        "colab": {
          "base_uri": "https://localhost:8080/"
        },
        "id": "OU4rI3uRI8jE",
        "outputId": "19b97b18-b048-46e5-832b-1c478ac313b3"
      },
      "execution_count": 32,
      "outputs": [
        {
          "output_type": "execute_result",
          "data": {
            "text/plain": [
              "device(type='cuda', index=0)"
            ]
          },
          "metadata": {},
          "execution_count": 32
        }
      ]
    },
    {
      "cell_type": "code",
      "source": [
        "loss_fn = nn.L1Loss()\n",
        "\n",
        "optimizer = torch.optim.SGD(params=model_1.parameters(),lr=0.01,)"
      ],
      "metadata": {
        "id": "y4e-cniPLNYz"
      },
      "execution_count": 33,
      "outputs": []
    },
    {
      "cell_type": "code",
      "source": [
        "torch.manual_seed(42)\n",
        "X_train = X_train.to(device)\n",
        "X_test = X_test.to(device)\n",
        "y_train = y_train.to(device)\n",
        "y_test = y_test.to(device)\n",
        "\n",
        "epochs = 200\n",
        "\n",
        "\n",
        "for epoch in range(epochs):\n",
        "  model_1.train()\n",
        "  y_pred = model_1(X_train)\n",
        "  loss = loss_fn(y_pred, y_train)\n",
        "\n",
        "  optimizer.zero_grad()\n",
        "\n",
        "  loss.backward()\n",
        "  optimizer.step()\n",
        "\n",
        "  model_1.eval()\n",
        "  with torch.inference_mode():\n",
        "    test_pred = model_1(X_test)\n",
        "    test_loss = loss_fn(test_pred,y_test)\n",
        "\n",
        "  if(epoch%10 == 0):\n",
        "    print(f\"Epoch: {epoch} | Loss: {loss} | Test Loss: {test_loss}\")"
      ],
      "metadata": {
        "colab": {
          "base_uri": "https://localhost:8080/"
        },
        "id": "HSZCEPhwMQhl",
        "outputId": "5b6299e0-c876-410d-b743-885f9d598d54"
      },
      "execution_count": 34,
      "outputs": [
        {
          "output_type": "stream",
          "name": "stdout",
          "text": [
            "Epoch: 0 | Loss: 0.5551779866218567 | Test Loss: 0.5739762187004089\n",
            "Epoch: 10 | Loss: 0.439968079328537 | Test Loss: 0.4392664134502411\n",
            "Epoch: 20 | Loss: 0.3247582018375397 | Test Loss: 0.30455657839775085\n",
            "Epoch: 30 | Loss: 0.20954833924770355 | Test Loss: 0.16984669864177704\n",
            "Epoch: 40 | Loss: 0.09433845430612564 | Test Loss: 0.03513690456748009\n",
            "Epoch: 50 | Loss: 0.023886388167738914 | Test Loss: 0.04784907028079033\n",
            "Epoch: 60 | Loss: 0.019956795498728752 | Test Loss: 0.045803118497133255\n",
            "Epoch: 70 | Loss: 0.016517987474799156 | Test Loss: 0.037530567497015\n",
            "Epoch: 80 | Loss: 0.013089174404740334 | Test Loss: 0.02994490973651409\n",
            "Epoch: 90 | Loss: 0.009653178043663502 | Test Loss: 0.02167237363755703\n",
            "Epoch: 100 | Loss: 0.006215683650225401 | Test Loss: 0.014086711220443249\n",
            "Epoch: 110 | Loss: 0.00278724217787385 | Test Loss: 0.005814164876937866\n",
            "Epoch: 120 | Loss: 0.0012645035749301314 | Test Loss: 0.013801801018416882\n",
            "Epoch: 130 | Loss: 0.0012645035749301314 | Test Loss: 0.013801801018416882\n",
            "Epoch: 140 | Loss: 0.0012645035749301314 | Test Loss: 0.013801801018416882\n",
            "Epoch: 150 | Loss: 0.0012645035749301314 | Test Loss: 0.013801801018416882\n",
            "Epoch: 160 | Loss: 0.0012645035749301314 | Test Loss: 0.013801801018416882\n",
            "Epoch: 170 | Loss: 0.0012645035749301314 | Test Loss: 0.013801801018416882\n",
            "Epoch: 180 | Loss: 0.0012645035749301314 | Test Loss: 0.013801801018416882\n",
            "Epoch: 190 | Loss: 0.0012645035749301314 | Test Loss: 0.013801801018416882\n"
          ]
        }
      ]
    },
    {
      "cell_type": "code",
      "source": [
        "model_1.state_dict()"
      ],
      "metadata": {
        "colab": {
          "base_uri": "https://localhost:8080/"
        },
        "id": "6fHbmgcKNZO8",
        "outputId": "6039f95f-4208-4e1d-e39e-d9502c8a263d"
      },
      "execution_count": 35,
      "outputs": [
        {
          "output_type": "execute_result",
          "data": {
            "text/plain": [
              "OrderedDict([('linear_layer.weight', tensor([[0.6968]], device='cuda:0')),\n",
              "             ('linear_layer.bias', tensor([0.3025], device='cuda:0'))])"
            ]
          },
          "metadata": {},
          "execution_count": 35
        }
      ]
    },
    {
      "cell_type": "code",
      "source": [
        "model_1.eval()\n",
        "\n",
        "with torch.inference_mode():\n",
        "  y_preds = model_1(X_test)\n",
        "y_preds"
      ],
      "metadata": {
        "colab": {
          "base_uri": "https://localhost:8080/"
        },
        "id": "LbDOmpwPsVu-",
        "outputId": "62fd4225-45ee-41e8-f0c0-00e8624244ee"
      },
      "execution_count": 36,
      "outputs": [
        {
          "output_type": "execute_result",
          "data": {
            "text/plain": [
              "tensor([[0.8600],\n",
              "        [0.8739],\n",
              "        [0.8878],\n",
              "        [0.9018],\n",
              "        [0.9157],\n",
              "        [0.9296],\n",
              "        [0.9436],\n",
              "        [0.9575],\n",
              "        [0.9714],\n",
              "        [0.9854]], device='cuda:0')"
            ]
          },
          "metadata": {},
          "execution_count": 36
        }
      ]
    },
    {
      "cell_type": "code",
      "source": [
        "plot_prediction(predictions=y_preds.cpu())"
      ],
      "metadata": {
        "colab": {
          "base_uri": "https://localhost:8080/",
          "height": 291
        },
        "id": "Ju7wAwMEs0C1",
        "outputId": "27bedf78-7f0c-4a9c-b088-5a38c4780845"
      },
      "execution_count": 37,
      "outputs": [
        {
          "output_type": "display_data",
          "data": {
            "text/plain": [
              "<Figure size 500x300 with 1 Axes>"
            ],
            "image/png": "[encoded data removed]"
          },
          "metadata": {}
        }
      ]
    },
    {
      "cell_type": "code",
      "source": [
        "from pathlib import Path\n",
        "\n",
        "MODEL_PATH = Path(\"models\")\n",
        "MODEL_PATH.mkdir(parents=True,exist_ok=True)\n",
        "\n",
        "MODEL_NAME = \"pytorch_workflow_model_1.pth\"\n",
        "MODEL_SAVE_PATH = MODEL_PATH / MODEL_NAME\n",
        "print(F\"Saving model to: {MODEL_SAVE_PATH}\")\n",
        "torch.save(obj=model_1.state_dict(),f=MODEL_SAVE_PATH)"
      ],
      "metadata": {
        "colab": {
          "base_uri": "https://localhost:8080/"
        },
        "id": "1MkjhHYps6ht",
        "outputId": "d6e6c9c4-a284-4db3-a200-8a7ec2c1c4b0"
      },
      "execution_count": 41,
      "outputs": [
        {
          "output_type": "stream",
          "name": "stdout",
          "text": [
            "Saving model to: models/pytorch_workflow_model_1.pth\n"
          ]
        }
      ]
    },
    {
      "cell_type": "code",
      "source": [
        "model_1.state_dict()"
      ],
      "metadata": {
        "colab": {
          "base_uri": "https://localhost:8080/"
        },
        "id": "FYYEmQWvuxm8",
        "outputId": "4eefd009-8539-4e51-9ec4-3121cfdb3e58"
      },
      "execution_count": 42,
      "outputs": [
        {
          "output_type": "execute_result",
          "data": {
            "text/plain": [
              "OrderedDict([('linear_layer.weight', tensor([[0.6968]], device='cuda:0')),\n",
              "             ('linear_layer.bias', tensor([0.3025], device='cuda:0'))])"
            ]
          },
          "metadata": {},
          "execution_count": 42
        }
      ]
    },
    {
      "cell_type": "code",
      "source": [
        "loaded_model_1 =LinearRegressionModelV2()\n",
        "loaded_model_1.load_state_dict(torch.load(MODEL_SAVE_PATH))\n",
        "loaded_model_1.to(device)"
      ],
      "metadata": {
        "colab": {
          "base_uri": "https://localhost:8080/"
        },
        "id": "S_fBEmJqt56n",
        "outputId": "78004f19-e77f-4eb8-a67a-8da8f78725a8"
      },
      "execution_count": 45,
      "outputs": [
        {
          "output_type": "execute_result",
          "data": {
            "text/plain": [
              "LinearRegressionModelV2(\n",
              "  (linear_layer): Linear(in_features=1, out_features=1, bias=True)\n",
              ")"
            ]
          },
          "metadata": {},
          "execution_count": 45
        }
      ]
    },
    {
      "cell_type": "code",
      "source": [
        "next(loaded_model_1.parameters()).device"
      ],
      "metadata": {
        "colab": {
          "base_uri": "https://localhost:8080/"
        },
        "id": "phUEm9M8kbVs",
        "outputId": "a62ab346-e215-4d45-e93c-6908b59c5117"
      },
      "execution_count": 46,
      "outputs": [
        {
          "output_type": "execute_result",
          "data": {
            "text/plain": [
              "device(type='cuda', index=0)"
            ]
          },
          "metadata": {},
          "execution_count": 46
        }
      ]
    },
    {
      "cell_type": "code",
      "source": [
        "loaded_model_1.state_dict()"
      ],
      "metadata": {
        "colab": {
          "base_uri": "https://localhost:8080/"
        },
        "id": "NwjSnz_Tkgzw",
        "outputId": "0043f188-5d17-4350-b533-e160a938b976"
      },
      "execution_count": 47,
      "outputs": [
        {
          "output_type": "execute_result",
          "data": {
            "text/plain": [
              "OrderedDict([('linear_layer.weight', tensor([[0.6968]], device='cuda:0')),\n",
              "             ('linear_layer.bias', tensor([0.3025], device='cuda:0'))])"
            ]
          },
          "metadata": {},
          "execution_count": 47
        }
      ]
    },
    {
      "cell_type": "code",
      "source": [
        "loaded_model_1.eval()\n",
        "with torch.inference_mode():\n",
        "  loaded_model_1_preds = loaded_model_1(X_test)\n",
        "loaded_model_1_preds == loaded_model_1_preds"
      ],
      "metadata": {
        "colab": {
          "base_uri": "https://localhost:8080/"
        },
        "id": "0pjX6fxLt6_1",
        "outputId": "bfb99c49-f2fe-49f8-a330-c49b0d9e4159"
      },
      "execution_count": 48,
      "outputs": [
        {
          "output_type": "execute_result",
          "data": {
            "text/plain": [
              "tensor([[True],\n",
              "        [True],\n",
              "        [True],\n",
              "        [True],\n",
              "        [True],\n",
              "        [True],\n",
              "        [True],\n",
              "        [True],\n",
              "        [True],\n",
              "        [True]], device='cuda:0')"
            ]
          },
          "metadata": {},
          "execution_count": 48
        }
      ]
    },
    {
      "cell_type": "code",
      "source": [],
      "metadata": {
        "id": "JTardoIjub_v"
      },
      "execution_count": 48,
      "outputs": []
    }
  ]
}